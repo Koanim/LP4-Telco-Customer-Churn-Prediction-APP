{
 "cells": [
  {
   "cell_type": "code",
   "execution_count": 2,
   "metadata": {},
   "outputs": [],
   "source": [
    "import pandas as pd\n",
    "import os\n",
    "import streamlit as st"
   ]
  },
  {
   "cell_type": "code",
   "execution_count": 4,
   "metadata": {},
   "outputs": [],
   "source": [
    "def make_prediction(pipeline, encoder):\n",
    "    gender = st.session_state['gender']\n",
    "    SeniorCitizen = st.session_state['SeniorCitizen']\n",
    "    Partner = st.session_state['Partner']\n",
    "    Dependents = st.session_state['Dependents']\n",
    "    tenure = st.session_state['tenure']\n",
    "    PhoneService = st.session_state['PhoneService']\n",
    "    MultipleLines = st.session_state['MultipleLines']\n",
    "    InternetService = st.session_state['InternetService']\n",
    "    OnlineSecurity = st.session_state['OnlineSecurity']\n",
    "    OnlineBackup = st.session_state['OnlineBackup']\n",
    "    DeviceProtection = st.session_state['DeviceProtection']\n",
    "    TechSupport = st.session_state['TechSupport']\n",
    "    StreamingTV = st.session_state['StreamingTV']\n",
    "    StreamingMovies = st.session_state['StreamingMovies']\n",
    "    Contract = st.session_state['Contract']\n",
    "    PaperlessBilling = st.session_state['PaperlessBilling']\n",
    "    PaymentMethod = st.session_state['PaymentMethod']\n",
    "    MonthlyCharges = st.session_state['MonthlyCharges']\n",
    "    TotalCharges = st.session_state['TotalCharges']"
   ]
  },
  {
   "cell_type": "code",
   "execution_count": null,
   "metadata": {},
   "outputs": [],
   "source": []
  },
  {
   "cell_type": "code",
   "execution_count": null,
   "metadata": {},
   "outputs": [],
   "source": [
    "data = [[gender, SeniorCitizen, Partner, Dependents, tenure, PhoneService, MultipleLines, InternetService, OnlineSecurity, OnlineBackup, DeviceProtection, TechSupport, StreamingTV, StreamingMovies, Contract, PaperlessBilling, PaymentMethod, MonthlyCharges, TotalCharges]]\n",
    "columns = ['gender', 'SeniorCitizen', 'Partner', 'Dependents', 'tenure', 'PhoneService', 'MultipleLines', 'InternetService', 'OnlineSecurity', 'OnlineBackup', 'DeviceProtection', 'TechSupport', 'StreamingTV', 'StreamingMovies', 'Contract', 'PaperlessBilling', 'PaymentMethod', 'MonthlyCharges', 'TotalCharges']\n",
    "df = pd.DataFrame(data, columns=columns)"
   ]
  },
  {
   "cell_type": "code",
   "execution_count": null,
   "metadata": {},
   "outputs": [],
   "source": [
    "history_file_path = './Data/history.csv'\n",
    "df.to_csv(history_file_path, mode='a', header=not os.path.exists(history_file_path), index=False)"
   ]
  }
 ],
 "metadata": {
  "kernelspec": {
   "display_name": "Python 3",
   "language": "python",
   "name": "python3"
  },
  "language_info": {
   "codemirror_mode": {
    "name": "ipython",
    "version": 3
   },
   "file_extension": ".py",
   "mimetype": "text/x-python",
   "name": "python",
   "nbconvert_exporter": "python",
   "pygments_lexer": "ipython3",
   "version": "3.10.9"
  }
 },
 "nbformat": 4,
 "nbformat_minor": 2
}
